{
  "nbformat": 4,
  "nbformat_minor": 0,
  "metadata": {
    "colab": {
      "provenance": [],
      "authorship_tag": "ABX9TyP0wJQihYsnC6klaTbuTvau",
      "include_colab_link": true
    },
    "kernelspec": {
      "name": "python3",
      "display_name": "Python 3"
    },
    "language_info": {
      "name": "python"
    }
  },
  "cells": [
    {
      "cell_type": "markdown",
      "metadata": {
        "id": "view-in-github",
        "colab_type": "text"
      },
      "source": [
        "<a href=\"https://colab.research.google.com/github/quimorfj/colab/blob/main/Colab_Github.ipynb\" target=\"_parent\"><img src=\"https://colab.research.google.com/assets/colab-badge.svg\" alt=\"Open In Colab\"/></a>"
      ]
    },
    {
      "cell_type": "code",
      "execution_count": null,
      "metadata": {
        "id": "x3iW1WazmafS",
        "colab": {
          "base_uri": "https://localhost:8080/"
        },
        "outputId": "bdbb2d37-bcc2-4456-ee7f-c718c7d38465"
      },
      "outputs": [
        {
          "output_type": "stream",
          "name": "stdout",
          "text": [
            "Prueba de repositorio\n",
            "Prueba de repositorio\n",
            "Prueba de repositorio\n",
            "Prueba de repositorio\n",
            "Prueba de repositorio\n"
          ]
        }
      ],
      "source": [
        "print(\"Prueba de repositorio\")\n",
        "print(\"Prueba de repositorio\")\n",
        "print(\"Prueba de repositorio\")\n",
        "print(\"Prueba de repositorio\")\n",
        "print(\"Prueba de repositorio\")\n"
      ]
    }
  ]
}